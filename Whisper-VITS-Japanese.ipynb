{
  "nbformat": 4,
  "nbformat_minor": 0,
  "metadata": {
    "colab": {
      "provenance": [],
      "collapsed_sections": []
    },
    "kernelspec": {
      "name": "python3",
      "display_name": "Python 3"
    },
    "language_info": {
      "name": "python"
    },
    "accelerator": "GPU",
    "widgets": {
      "application/vnd.jupyter.widget-state+json": {
        "0f8bcc7cd8dd420490ef846159005f9f": {
          "model_module": "@jupyter-widgets/controls",
          "model_name": "HBoxModel",
          "model_module_version": "1.5.0",
          "state": {
            "_dom_classes": [],
            "_model_module": "@jupyter-widgets/controls",
            "_model_module_version": "1.5.0",
            "_model_name": "HBoxModel",
            "_view_count": null,
            "_view_module": "@jupyter-widgets/controls",
            "_view_module_version": "1.5.0",
            "_view_name": "HBoxView",
            "box_style": "",
            "children": [
              "IPY_MODEL_e33327ae13474e179a2642cdcff3ffe1",
              "IPY_MODEL_ed11c6e29c6d410abf6553233c942dca",
              "IPY_MODEL_1c4809dd7c72473096edcaa61711334f"
            ],
            "layout": "IPY_MODEL_116d47570e7b44389bf8972434cafb6c"
          }
        },
        "e33327ae13474e179a2642cdcff3ffe1": {
          "model_module": "@jupyter-widgets/controls",
          "model_name": "HTMLModel",
          "model_module_version": "1.5.0",
          "state": {
            "_dom_classes": [],
            "_model_module": "@jupyter-widgets/controls",
            "_model_module_version": "1.5.0",
            "_model_name": "HTMLModel",
            "_view_count": null,
            "_view_module": "@jupyter-widgets/controls",
            "_view_module_version": "1.5.0",
            "_view_name": "HTMLView",
            "description": "",
            "description_tooltip": null,
            "layout": "IPY_MODEL_e3b0e410eef24301b220d2761fc3f79c",
            "placeholder": "​",
            "style": "IPY_MODEL_b4ed1dc3907140ff96eecd370ec3edb4",
            "value": ""
          }
        },
        "ed11c6e29c6d410abf6553233c942dca": {
          "model_module": "@jupyter-widgets/controls",
          "model_name": "FloatProgressModel",
          "model_module_version": "1.5.0",
          "state": {
            "_dom_classes": [],
            "_model_module": "@jupyter-widgets/controls",
            "_model_module_version": "1.5.0",
            "_model_name": "FloatProgressModel",
            "_view_count": null,
            "_view_module": "@jupyter-widgets/controls",
            "_view_module_version": "1.5.0",
            "_view_name": "ProgressView",
            "bar_style": "success",
            "description": "",
            "description_tooltip": null,
            "layout": "IPY_MODEL_1e9ded61935943ed942e9df4a9f54d5b",
            "max": 1,
            "min": 0,
            "orientation": "horizontal",
            "style": "IPY_MODEL_11cc9d4697dc4db8bdacdaea8f1ebf72",
            "value": 0
          }
        },
        "1c4809dd7c72473096edcaa61711334f": {
          "model_module": "@jupyter-widgets/controls",
          "model_name": "HTMLModel",
          "model_module_version": "1.5.0",
          "state": {
            "_dom_classes": [],
            "_model_module": "@jupyter-widgets/controls",
            "_model_module_version": "1.5.0",
            "_model_name": "HTMLModel",
            "_view_count": null,
            "_view_module": "@jupyter-widgets/controls",
            "_view_module_version": "1.5.0",
            "_view_name": "HTMLView",
            "description": "",
            "description_tooltip": null,
            "layout": "IPY_MODEL_cfae07c313334cb493fce36d5f276889",
            "placeholder": "​",
            "style": "IPY_MODEL_f69fcdd6971a4147988cf12d9f98325b",
            "value": " 0/0 [00:00&lt;?, ?it/s]"
          }
        },
        "116d47570e7b44389bf8972434cafb6c": {
          "model_module": "@jupyter-widgets/base",
          "model_name": "LayoutModel",
          "model_module_version": "1.2.0",
          "state": {
            "_model_module": "@jupyter-widgets/base",
            "_model_module_version": "1.2.0",
            "_model_name": "LayoutModel",
            "_view_count": null,
            "_view_module": "@jupyter-widgets/base",
            "_view_module_version": "1.2.0",
            "_view_name": "LayoutView",
            "align_content": null,
            "align_items": null,
            "align_self": null,
            "border": null,
            "bottom": null,
            "display": null,
            "flex": null,
            "flex_flow": null,
            "grid_area": null,
            "grid_auto_columns": null,
            "grid_auto_flow": null,
            "grid_auto_rows": null,
            "grid_column": null,
            "grid_gap": null,
            "grid_row": null,
            "grid_template_areas": null,
            "grid_template_columns": null,
            "grid_template_rows": null,
            "height": null,
            "justify_content": null,
            "justify_items": null,
            "left": null,
            "margin": null,
            "max_height": null,
            "max_width": null,
            "min_height": null,
            "min_width": null,
            "object_fit": null,
            "object_position": null,
            "order": null,
            "overflow": null,
            "overflow_x": null,
            "overflow_y": null,
            "padding": null,
            "right": null,
            "top": null,
            "visibility": null,
            "width": null
          }
        },
        "e3b0e410eef24301b220d2761fc3f79c": {
          "model_module": "@jupyter-widgets/base",
          "model_name": "LayoutModel",
          "model_module_version": "1.2.0",
          "state": {
            "_model_module": "@jupyter-widgets/base",
            "_model_module_version": "1.2.0",
            "_model_name": "LayoutModel",
            "_view_count": null,
            "_view_module": "@jupyter-widgets/base",
            "_view_module_version": "1.2.0",
            "_view_name": "LayoutView",
            "align_content": null,
            "align_items": null,
            "align_self": null,
            "border": null,
            "bottom": null,
            "display": null,
            "flex": null,
            "flex_flow": null,
            "grid_area": null,
            "grid_auto_columns": null,
            "grid_auto_flow": null,
            "grid_auto_rows": null,
            "grid_column": null,
            "grid_gap": null,
            "grid_row": null,
            "grid_template_areas": null,
            "grid_template_columns": null,
            "grid_template_rows": null,
            "height": null,
            "justify_content": null,
            "justify_items": null,
            "left": null,
            "margin": null,
            "max_height": null,
            "max_width": null,
            "min_height": null,
            "min_width": null,
            "object_fit": null,
            "object_position": null,
            "order": null,
            "overflow": null,
            "overflow_x": null,
            "overflow_y": null,
            "padding": null,
            "right": null,
            "top": null,
            "visibility": null,
            "width": null
          }
        },
        "b4ed1dc3907140ff96eecd370ec3edb4": {
          "model_module": "@jupyter-widgets/controls",
          "model_name": "DescriptionStyleModel",
          "model_module_version": "1.5.0",
          "state": {
            "_model_module": "@jupyter-widgets/controls",
            "_model_module_version": "1.5.0",
            "_model_name": "DescriptionStyleModel",
            "_view_count": null,
            "_view_module": "@jupyter-widgets/base",
            "_view_module_version": "1.2.0",
            "_view_name": "StyleView",
            "description_width": ""
          }
        },
        "1e9ded61935943ed942e9df4a9f54d5b": {
          "model_module": "@jupyter-widgets/base",
          "model_name": "LayoutModel",
          "model_module_version": "1.2.0",
          "state": {
            "_model_module": "@jupyter-widgets/base",
            "_model_module_version": "1.2.0",
            "_model_name": "LayoutModel",
            "_view_count": null,
            "_view_module": "@jupyter-widgets/base",
            "_view_module_version": "1.2.0",
            "_view_name": "LayoutView",
            "align_content": null,
            "align_items": null,
            "align_self": null,
            "border": null,
            "bottom": null,
            "display": null,
            "flex": null,
            "flex_flow": null,
            "grid_area": null,
            "grid_auto_columns": null,
            "grid_auto_flow": null,
            "grid_auto_rows": null,
            "grid_column": null,
            "grid_gap": null,
            "grid_row": null,
            "grid_template_areas": null,
            "grid_template_columns": null,
            "grid_template_rows": null,
            "height": null,
            "justify_content": null,
            "justify_items": null,
            "left": null,
            "margin": null,
            "max_height": null,
            "max_width": null,
            "min_height": null,
            "min_width": null,
            "object_fit": null,
            "object_position": null,
            "order": null,
            "overflow": null,
            "overflow_x": null,
            "overflow_y": null,
            "padding": null,
            "right": null,
            "top": null,
            "visibility": null,
            "width": "20px"
          }
        },
        "11cc9d4697dc4db8bdacdaea8f1ebf72": {
          "model_module": "@jupyter-widgets/controls",
          "model_name": "ProgressStyleModel",
          "model_module_version": "1.5.0",
          "state": {
            "_model_module": "@jupyter-widgets/controls",
            "_model_module_version": "1.5.0",
            "_model_name": "ProgressStyleModel",
            "_view_count": null,
            "_view_module": "@jupyter-widgets/base",
            "_view_module_version": "1.2.0",
            "_view_name": "StyleView",
            "bar_color": null,
            "description_width": ""
          }
        },
        "cfae07c313334cb493fce36d5f276889": {
          "model_module": "@jupyter-widgets/base",
          "model_name": "LayoutModel",
          "model_module_version": "1.2.0",
          "state": {
            "_model_module": "@jupyter-widgets/base",
            "_model_module_version": "1.2.0",
            "_model_name": "LayoutModel",
            "_view_count": null,
            "_view_module": "@jupyter-widgets/base",
            "_view_module_version": "1.2.0",
            "_view_name": "LayoutView",
            "align_content": null,
            "align_items": null,
            "align_self": null,
            "border": null,
            "bottom": null,
            "display": null,
            "flex": null,
            "flex_flow": null,
            "grid_area": null,
            "grid_auto_columns": null,
            "grid_auto_flow": null,
            "grid_auto_rows": null,
            "grid_column": null,
            "grid_gap": null,
            "grid_row": null,
            "grid_template_areas": null,
            "grid_template_columns": null,
            "grid_template_rows": null,
            "height": null,
            "justify_content": null,
            "justify_items": null,
            "left": null,
            "margin": null,
            "max_height": null,
            "max_width": null,
            "min_height": null,
            "min_width": null,
            "object_fit": null,
            "object_position": null,
            "order": null,
            "overflow": null,
            "overflow_x": null,
            "overflow_y": null,
            "padding": null,
            "right": null,
            "top": null,
            "visibility": null,
            "width": null
          }
        },
        "f69fcdd6971a4147988cf12d9f98325b": {
          "model_module": "@jupyter-widgets/controls",
          "model_name": "DescriptionStyleModel",
          "model_module_version": "1.5.0",
          "state": {
            "_model_module": "@jupyter-widgets/controls",
            "_model_module_version": "1.5.0",
            "_model_name": "DescriptionStyleModel",
            "_view_count": null,
            "_view_module": "@jupyter-widgets/base",
            "_view_module_version": "1.2.0",
            "_view_name": "StyleView",
            "description_width": ""
          }
        }
      }
    }
  },
  "cells": [
    {
      "cell_type": "markdown",
      "source": [
        "### Download Whisper"
      ],
      "metadata": {
        "id": "oz0vA1nAW8O6"
      }
    },
    {
      "cell_type": "code",
      "source": [
        "#避免Colab断开连接的方法：\n",
        "#在网页内按键Ctrl+Shift+I，跳到控制台界面，输入以下的内容：\n",
        "#function ConnectButton(){\n",
        "    #console.log(\"Connect pushed\"); \n",
        "    #document.querySelector(\"#top-toolbar > colab-connect-button\").shadowRoot.querySelector(\"#connect\").click()}\n",
        "#setInterval(ConnectButton,60000);\n",
        "#记得删掉前面的#"
      ],
      "metadata": {
        "id": "w62ZGgAnxwe5"
      },
      "execution_count": null,
      "outputs": []
    },
    {
      "cell_type": "code",
      "source": [
        "!git clone https://github.com/AlexandaJerry/whisper-vits-japanese"
      ],
      "metadata": {
        "id": "No9FcLh6W9UL",
        "colab": {
          "base_uri": "https://localhost:8080/"
        },
        "outputId": "f24bac4e-6a0c-40de-d63e-0d63156fe41b"
      },
      "execution_count": null,
      "outputs": [
        {
          "output_type": "stream",
          "name": "stdout",
          "text": [
            "Cloning into 'whisper-vits-japanese'...\n",
            "remote: Enumerating objects: 135, done.\u001b[K\n",
            "remote: Counting objects: 100% (27/27), done.\u001b[K\n",
            "remote: Compressing objects: 100% (22/22), done.\u001b[K\n",
            "remote: Total 135 (delta 7), reused 12 (delta 3), pack-reused 108\u001b[K\n",
            "Receiving objects: 100% (135/135), 43.80 MiB | 22.73 MiB/s, done.\n",
            "Resolving deltas: 100% (13/13), done.\n"
          ]
        }
      ]
    },
    {
      "cell_type": "code",
      "source": [
        "%%capture\n",
        "!pip install git+https://github.com/openai/whisper.git"
      ],
      "metadata": {
        "id": "FXy7Qki0ArCs"
      },
      "execution_count": null,
      "outputs": []
    },
    {
      "cell_type": "code",
      "source": [
        "!cp -r /content/whisper-vits-japanese/whisper/transcribe.py /usr/local/lib/python3.7/dist-packages/whisper\n",
        "!cp -r /content/whisper-vits-japanese/whisper/utils.py /usr/local/lib/python3.7/dist-packages/whisper"
      ],
      "metadata": {
        "id": "OBQpIxEWXUAf"
      },
      "execution_count": null,
      "outputs": []
    },
    {
      "cell_type": "code",
      "source": [
        "import whisper"
      ],
      "metadata": {
        "id": "f3nrt2LIXVD-",
        "colab": {
          "base_uri": "https://localhost:8080/",
          "height": 104,
          "referenced_widgets": [
            "0f8bcc7cd8dd420490ef846159005f9f",
            "e33327ae13474e179a2642cdcff3ffe1",
            "ed11c6e29c6d410abf6553233c942dca",
            "1c4809dd7c72473096edcaa61711334f",
            "116d47570e7b44389bf8972434cafb6c",
            "e3b0e410eef24301b220d2761fc3f79c",
            "b4ed1dc3907140ff96eecd370ec3edb4",
            "1e9ded61935943ed942e9df4a9f54d5b",
            "11cc9d4697dc4db8bdacdaea8f1ebf72",
            "cfae07c313334cb493fce36d5f276889",
            "f69fcdd6971a4147988cf12d9f98325b"
          ]
        },
        "outputId": "3044495d-5ec8-4d36-9a6d-77baa74b4458"
      },
      "execution_count": null,
      "outputs": [
        {
          "output_type": "stream",
          "name": "stderr",
          "text": [
            "The cache for model files in Transformers v4.22.0 has been updated. Migrating your old cache. This is a one-time only operation. You can interrupt this and resume the migration later on by calling `transformers.utils.move_cache()`.\n"
          ]
        },
        {
          "output_type": "stream",
          "name": "stdout",
          "text": [
            "Moving 0 files to the new cache system\n"
          ]
        },
        {
          "output_type": "display_data",
          "data": {
            "text/plain": [
              "0it [00:00, ?it/s]"
            ],
            "application/vnd.jupyter.widget-view+json": {
              "version_major": 2,
              "version_minor": 0,
              "model_id": "0f8bcc7cd8dd420490ef846159005f9f"
            }
          },
          "metadata": {}
        }
      ]
    },
    {
      "cell_type": "markdown",
      "source": [
        "### Prepare Data for Whisper ASR"
      ],
      "metadata": {
        "id": "nTukkE9NXIoY"
      }
    },
    {
      "cell_type": "code",
      "source": [
        "from google.colab import drive\n",
        "drive.mount('/content/drive')"
      ],
      "metadata": {
        "id": "yWSW8Ml8MX2W"
      },
      "execution_count": null,
      "outputs": []
    },
    {
      "cell_type": "markdown",
      "source": [
        "###此处是唯一需要自己改动的地方：自己的音频zip路径"
      ],
      "metadata": {
        "id": "yrF3iDQ_kIgS"
      }
    },
    {
      "cell_type": "code",
      "source": [
        "#目前支持日语，换成别语言需替换text文件夹cleaner和symbols以及config文件夹中isla_base.json的cleaner参数\n",
        "#这里只需用新路径替换掉/content/drive/MyDrive/isla_base/isla.zip即可(音频需为wav)\n",
        "!unzip -j /content/drive/MyDrive/isla_base/isla.zip \"*/*.wav\" -d /content/whisper-vits-japanese/audio"
      ],
      "metadata": {
        "id": "zfaaUxXYVKNN"
      },
      "execution_count": null,
      "outputs": []
    },
    {
      "cell_type": "code",
      "source": [
        "#如果没有训练数据只想体验的话，这里只能暂时借用下White老师的数据集了，作为入门材料真是万分感谢\n",
        "%cd /content/whisper-vits-japanese\n",
        "!wget --load-cookies /tmp/cookies.txt \"https://docs.google.com/uc?export=download&confirm=$(wget --quiet --save-cookies /tmp/cookies.txt --keep-session-cookies --no-check-certificate 'https://docs.google.com/uc?export=download&id=1H6aqdGP-h-MT7XAVk870Ql4d3QrJT-7o' -O- | sed -rn 's/.*confirm=([0-9A-Za-z_]+).*/\\1\\n/p')&id=1H6aqdGP-h-MT7XAVk870Ql4d3QrJT-7o\" -O \"isla.zip\" && rm -rf /tmp/cookies.txt\n",
        "!unzip -j /content/whisper-vits-japanese/isla.zip \"*/*.wav\" -d /content/whisper-vits-japanese/audio"
      ],
      "metadata": {
        "id": "Lfl3Jx7rg0cj"
      },
      "execution_count": null,
      "outputs": []
    },
    {
      "cell_type": "code",
      "source": [
        "#识别过程总共花费50分钟(大概是音频总长的三分之一到一半左右)\n",
        "!whisper -i /content/whisper-vits-japanese/audio -o /content/whisper-vits-japanese/srt_files --language Japanese"
      ],
      "metadata": {
        "id": "rmLdedLvSAcC"
      },
      "execution_count": null,
      "outputs": []
    },
    {
      "cell_type": "code",
      "source": [
        "#auto.py会根据Whisper导出的srt自动切片音频、转写文本、转采样率为22050HZ\n",
        "#最后会把适配VIST的数据格式汇总在/content/whisper-vits-japanese/filelists\n",
        "#然后音频数据会被放在/content/whisper-vits-japanese/sliced_audio文件夹里\n",
        "!pip install pydub\n",
        "%cd /content/whisper-vits-japanese\n",
        "!python auto.py"
      ],
      "metadata": {
        "id": "TT1IPemlfnMe"
      },
      "execution_count": null,
      "outputs": []
    },
    {
      "cell_type": "markdown",
      "source": [
        "### Install Requirements of VITS"
      ],
      "metadata": {
        "id": "EIQTfLHyV-md"
      }
    },
    {
      "cell_type": "code",
      "source": [
        "!pip install -r requirements.txt\n",
        "!sudo apt-get install espeak -y"
      ],
      "metadata": {
        "id": "Z0qEu4ftO9N3"
      },
      "execution_count": null,
      "outputs": []
    },
    {
      "cell_type": "markdown",
      "source": [
        "### Alignment and Text Conversion"
      ],
      "metadata": {
        "id": "lmEwZSRJPJbo"
      }
    },
    {
      "cell_type": "code",
      "source": [
        "import os\n",
        "path = \"/content/whisper-vits-japanese\"\n",
        "os.chdir(path)\n",
        "print(os.getcwd())"
      ],
      "metadata": {
        "id": "ym67KvqlV1DH",
        "colab": {
          "base_uri": "https://localhost:8080/"
        },
        "outputId": "db7c9b42-3089-4ef7-d9e4-f27c394e17a8"
      },
      "execution_count": null,
      "outputs": [
        {
          "output_type": "stream",
          "name": "stdout",
          "text": [
            "/content/whisper-vits-japanese\n"
          ]
        }
      ]
    },
    {
      "cell_type": "code",
      "source": [
        "%cd monotonic_align\n",
        "!python setup.py build_ext --inplace\n",
        "%cd .."
      ],
      "metadata": {
        "id": "8c2xU9XPH7K_"
      },
      "execution_count": null,
      "outputs": []
    },
    {
      "cell_type": "code",
      "source": [
        "import os\n",
        "path = \"/content/whisper-vits-japanese\"\n",
        "os.chdir(path)\n",
        "print(os.getcwd())"
      ],
      "metadata": {
        "id": "kYWFPADJWDxD",
        "colab": {
          "base_uri": "https://localhost:8080/"
        },
        "outputId": "b7e8fff2-74be-49fb-f6a4-4b7759dacde8"
      },
      "execution_count": null,
      "outputs": [
        {
          "output_type": "stream",
          "name": "stdout",
          "text": [
            "/content/whisper-vits-japanese\n"
          ]
        }
      ]
    },
    {
      "cell_type": "code",
      "source": [
        "#如果输出提示nophoneme这种情况，检查下/content/whisper-vits-japanese/filelists的两个txt文件里有没有出现英文转写\n",
        "!python preprocess.py --text_index 1 --text_cleaners japanese_cleaners --filelists /content/whisper-vits-japanese/filelists/train_filelist.txt /content/whisper-vits-japanese/filelists/val_filelist.txt"
      ],
      "metadata": {
        "id": "2NNNMdYHWGjx",
        "colab": {
          "base_uri": "https://localhost:8080/"
        },
        "outputId": "59fc8f5c-d358-46eb-a0ce-794cf750c6e2"
      },
      "execution_count": null,
      "outputs": [
        {
          "output_type": "stream",
          "name": "stdout",
          "text": [
            "START: /content/whisper-vits-japanese/filelists/train_filelist.txt\n",
            "Downloading: \"https://github.com/r9y9/open_jtalk/releases/download/v1.11.1/open_jtalk_dic_utf_8-1.11.tar.gz\"\n",
            "dic.tar.gz: 100% 22.6M/22.6M [00:02<00:00, 10.9MB/s]\n",
            "Extracting tar file /usr/local/lib/python3.7/dist-packages/pyopenjtalk/dic.tar.gz\n",
            "START: /content/whisper-vits-japanese/filelists/val_filelist.txt\n"
          ]
        }
      ]
    },
    {
      "cell_type": "markdown",
      "source": [
        "### Train"
      ],
      "metadata": {
        "id": "IVWRcdtdWY5M"
      }
    },
    {
      "cell_type": "code",
      "source": [
        "!python train.py -c configs/isla_base.json -m isla_base"
      ],
      "metadata": {
        "id": "JXhkRuxQWV-Y"
      },
      "execution_count": null,
      "outputs": []
    },
    {
      "cell_type": "markdown",
      "source": [
        "### Inference"
      ],
      "metadata": {
        "id": "muChqfiKWg1x"
      }
    },
    {
      "cell_type": "code",
      "source": [
        "#如果出现大批量的log日志显示在输出的话\n",
        "#在\"代码执行程序\"下拉菜单选择\"重新启动代码程序\"\n",
        "#再从该代码框开始，重新运行进行推断和输出语音\n",
        "import os\n",
        "path = \"/content/whisper-vits-japanese\"\n",
        "os.chdir(path)\n",
        "print(os.getcwd())\n",
        "\n",
        "%matplotlib inline\n",
        "import matplotlib.pyplot as plt\n",
        "import IPython.display as ipd\n",
        "\n",
        "import os\n",
        "import json\n",
        "import math\n",
        "import torch\n",
        "from torch import nn\n",
        "from torch.nn import functional as F\n",
        "from torch.utils.data import DataLoader\n",
        "\n",
        "import commons\n",
        "import utils\n",
        "from data_utils import TextAudioLoader, TextAudioCollate, TextAudioSpeakerLoader, TextAudioSpeakerCollate\n",
        "from models import SynthesizerTrn\n",
        "from text.symbols import symbols\n",
        "from text import text_to_sequence\n",
        "\n",
        "from scipy.io.wavfile import write\n",
        "\n",
        "\n",
        "def get_text(text, hps):\n",
        "    text_norm = text_to_sequence(text, hps.data.text_cleaners)\n",
        "    if hps.data.add_blank:\n",
        "        text_norm = commons.intersperse(text_norm, 0)\n",
        "    text_norm = torch.LongTensor(text_norm)\n",
        "    return text_norm"
      ],
      "metadata": {
        "id": "N_s3vd9jWdC8",
        "colab": {
          "base_uri": "https://localhost:8080/"
        },
        "outputId": "504e71e9-8730-4d8b-bf05-fedaf9cf3275"
      },
      "execution_count": null,
      "outputs": [
        {
          "output_type": "stream",
          "name": "stdout",
          "text": [
            "/content/whisper-vits-japanese\n"
          ]
        }
      ]
    },
    {
      "cell_type": "code",
      "source": [
        "hps = utils.get_hparams_from_file(\"/content/whisper-vits-japanese/configs/isla_base.json\")"
      ],
      "metadata": {
        "id": "kDwA3fWlWj9s"
      },
      "execution_count": null,
      "outputs": []
    },
    {
      "cell_type": "code",
      "source": [
        "net_g = SynthesizerTrn(\n",
        "    len(symbols),\n",
        "    hps.data.filter_length // 2 + 1,\n",
        "    hps.train.segment_size // hps.data.hop_length,\n",
        "    **hps.model).cuda()\n",
        "_ = net_g.eval()\n",
        "\n",
        "#下面的这个isla_base/G_6000.pth需要换成目标文件夹里数字最大的G_????.pth\n",
        "_ = utils.load_checkpoint(\"/content/whisper-vits-japanese/logs/isla_base/G_????.pth\", net_g, None)"
      ],
      "metadata": {
        "id": "J9pPjEkuWlyh"
      },
      "execution_count": null,
      "outputs": []
    },
    {
      "cell_type": "code",
      "source": [
        "stn_tst = get_text(\"ビエザイゼリ…ーファーディエン\", hps) #别在这里发癫 停顿可用…、\n",
        "with torch.no_grad():\n",
        "    x_tst = stn_tst.cuda().unsqueeze(0)\n",
        "    x_tst_lengths = torch.LongTensor([stn_tst.size(0)]).cuda()\n",
        "    audio = net_g.infer(x_tst, x_tst_lengths, noise_scale=.667, noise_scale_w=0.8, length_scale=1)[0][0,0].data.cpu().float().numpy()\n",
        "ipd.display(ipd.Audio(audio, rate=hps.data.sampling_rate))"
      ],
      "metadata": {
        "id": "p3KH-j_GK8Cn"
      },
      "execution_count": null,
      "outputs": []
    },
    {
      "cell_type": "markdown",
      "source": [
        "### Save Materials and Checkpoints to Drive for Future Usage"
      ],
      "metadata": {
        "id": "YnsPTT2ZBanL"
      }
    },
    {
      "cell_type": "code",
      "source": [
        "#把checkpoint存入google drive(这里用了RT防止递归式复制到目标文件夹)\n",
        "!cp -RT /content/whisper-vits-japanese/logs/ /content/drive/MyDrive/logs/\n",
        "#把音频文件和对应抄本存入google drive\n",
        "!cp -RT /content/whisper-vits-japanese/sliced_audio/ /content/drive/MyDrive/sliced_audio/\n",
        "!cp -RT /content/whisper-vits-japanese/filelists/ /content/drive/MyDrive/filelists/"
      ],
      "metadata": {
        "id": "DJFCHUn0WnpX"
      },
      "execution_count": 45,
      "outputs": []
    },
    {
      "cell_type": "markdown",
      "source": [
        "### Restart from Lastest Checkpoint in the Next Time\n",
        "\n"
      ],
      "metadata": {
        "id": "svJVr6CtUwOE"
      }
    },
    {
      "cell_type": "code",
      "source": [
        "from google.colab import drive\n",
        "drive.mount('/content/drive')"
      ],
      "metadata": {
        "id": "n-QRqLulUzHm"
      },
      "execution_count": null,
      "outputs": []
    },
    {
      "cell_type": "code",
      "source": [
        "#把google drive的checkpoint恢复到文件夹\n",
        "!cp -r /content/drive/MyDrive/logs/isla_base/** /content/whisper-vits-japanese/logs/isla_base/\n",
        "#把音频文件和对应抄本恢复到文件夹\n",
        "!cp -r /content/drive/MyDrive/sliced_audio/** /content/whisper-vits-japanese/sliced_audio/\n",
        "!cp -r /content/drive/MyDrive/filelists/** /content/whisper-vits-japanese/filelists/"
      ],
      "metadata": {
        "id": "DYM1HFv4WqXg"
      },
      "execution_count": 44,
      "outputs": []
    },
    {
      "cell_type": "code",
      "source": [
        "%cd /content/whisper-vits-japanese\n",
        "!pip install -r requirements.txt\n",
        "!sudo apt-get install espeak -y\n",
        "%cd monotonic_align\n",
        "!python setup.py build_ext --inplace\n",
        "%cd ..\n",
        "!python train.py -c configs/isla_base.json -m isla_base"
      ],
      "metadata": {
        "id": "vUwJbLK-Qn6r"
      },
      "execution_count": null,
      "outputs": []
    }
  ]
}